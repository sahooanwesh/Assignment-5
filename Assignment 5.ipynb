{
 "cells": [
  {
   "cell_type": "code",
   "execution_count": 22,
   "id": "2fd0ad44",
   "metadata": {},
   "outputs": [
    {
     "name": "stdout",
     "output_type": "stream",
     "text": [
      "Enter number: 55\n",
      "Enter power: 2\n",
      "Result:  3025\n"
     ]
    }
   ],
   "source": [
    "# Write a Python class to implement pow(x, n)\n",
    "\n",
    "# Explanation:\n",
    "\n",
    "# Use should be able to find the nth power of the x.(i.e x*x*x*x...n times)\n",
    "\n",
    "# You must implement it using Class\n",
    "\n",
    "\n",
    "# Sample Input:\n",
    "\n",
    "# x: 10\n",
    "\n",
    "# n: 2\n",
    "\n",
    "# Sample Output:\n",
    "\n",
    "# 100\n",
    "\n",
    "class cal():\n",
    "    def __init__(self,a,b):\n",
    "        self.a=a\n",
    "        self.b=b\n",
    "    def power(self):\n",
    "        return pow(self.a,self.b)\n",
    "  \n",
    "        \n",
    " \n",
    "        \n",
    "a=int(input(\"Enter number: \"))\n",
    "b=int(input(\"Enter power: \"))\n",
    "\n",
    "obj=cal(a,b)\n",
    "\n",
    "print(\"Result: \",obj.power())\n",
    "\n",
    "\n"
   ]
  },
  {
   "cell_type": "code",
   "execution_count": null,
   "id": "632ea88a",
   "metadata": {},
   "outputs": [],
   "source": []
  }
 ],
 "metadata": {
  "kernelspec": {
   "display_name": "Python 3 (ipykernel)",
   "language": "python",
   "name": "python3"
  },
  "language_info": {
   "codemirror_mode": {
    "name": "ipython",
    "version": 3
   },
   "file_extension": ".py",
   "mimetype": "text/x-python",
   "name": "python",
   "nbconvert_exporter": "python",
   "pygments_lexer": "ipython3",
   "version": "3.10.0"
  }
 },
 "nbformat": 4,
 "nbformat_minor": 5
}
